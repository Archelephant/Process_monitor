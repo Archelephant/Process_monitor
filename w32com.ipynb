{
 "cells": [
  {
   "cell_type": "code",
   "execution_count": 1,
   "metadata": {},
   "outputs": [],
   "source": [
    "import wmi\n",
    "\n",
    "c = wmi.WMI()"
   ]
  },
  {
   "cell_type": "code",
   "execution_count": null,
   "metadata": {},
   "outputs": [],
   "source": [
    "process_watcher = c.Win32_Process.watch_for(\"creation\")\n",
    "'''\n",
    "while True:\n",
    "  new_process = process_watcher()\n",
    "  print(new_process.Caption)\n",
    "'''"
   ]
  },
  {
   "cell_type": "code",
   "execution_count": 22,
   "metadata": {},
   "outputs": [
    {
     "name": "stdout",
     "output_type": "stream",
     "text": [
      "<function Reboot () => (ReturnValue) | Needs: SeShutdownPrivilege>\n",
      "<function Shutdown () => (ReturnValue) | Needs: SeShutdownPrivilege>\n",
      "<function Win32Shutdown (Flags, Reserved) => (ReturnValue) | Needs: SeShutdownPrivilege>\n",
      "<function Win32ShutdownTracker (Comment, Flags, ReasonCode, Timeout) => (ReturnValue) | Needs: SeShutdownPrivilege>\n",
      "<function SetDateTime (LocalDateTime) => (ReturnValue) | Needs: SeSystemTimePrivilege>\n"
     ]
    }
   ],
   "source": [
    "os = c.Win32_OperatingSystem\n",
    "for method_name in os.methods:\n",
    "    method = getattr(os, method_name)\n",
    "    print(method)"
   ]
  },
  {
   "cell_type": "code",
   "execution_count": 2,
   "metadata": {},
   "outputs": [
    {
     "name": "stdout",
     "output_type": "stream",
     "text": [
      "CIM_AssociatedSupplyVoltageSensor\n",
      "CIM_VoltageSensor\n",
      "Win32_VoltageProbe\n"
     ]
    }
   ],
   "source": [
    "for item in c.classes:\n",
    "    text = str(item)\n",
    "    if 'voltage' in text.lower():\n",
    "        print(item)"
   ]
  },
  {
   "cell_type": "code",
   "execution_count": 4,
   "metadata": {},
   "outputs": [
    {
     "name": "stdout",
     "output_type": "stream",
     "text": [
      "SetPowerState\n",
      "Reset\n"
     ]
    }
   ],
   "source": [
    "for item in c.CIM_VoltageSensor.methods:\n",
    "    print(item)"
   ]
  },
  {
   "cell_type": "code",
   "execution_count": 7,
   "metadata": {},
   "outputs": [
    {
     "data": {
      "text/plain": [
       "['__call__',\n",
       " '__class__',\n",
       " '__delattr__',\n",
       " '__dict__',\n",
       " '__dir__',\n",
       " '__doc__',\n",
       " '__eq__',\n",
       " '__format__',\n",
       " '__ge__',\n",
       " '__getattr__',\n",
       " '__getattribute__',\n",
       " '__getstate__',\n",
       " '__gt__',\n",
       " '__hash__',\n",
       " '__init__',\n",
       " '__init_subclass__',\n",
       " '__le__',\n",
       " '__lt__',\n",
       " '__module__',\n",
       " '__ne__',\n",
       " '__new__',\n",
       " '__reduce__',\n",
       " '__reduce_ex__',\n",
       " '__repr__',\n",
       " '__setattr__',\n",
       " '__sizeof__',\n",
       " '__str__',\n",
       " '__subclasshook__',\n",
       " '__weakref__',\n",
       " '_associated_classes',\n",
       " '_cached_associated_classes',\n",
       " '_cached_methods',\n",
       " '_cached_properties',\n",
       " '_class_name',\n",
       " '_getAttributeNames',\n",
       " '_get_keys',\n",
       " '_instance_of',\n",
       " '_keys',\n",
       " '_methods',\n",
       " '_namespace',\n",
       " '_properties',\n",
       " 'associated_classes',\n",
       " 'associators',\n",
       " 'derivation',\n",
       " 'id',\n",
       " 'instances',\n",
       " 'is_association',\n",
       " 'keys',\n",
       " 'methods',\n",
       " 'new',\n",
       " 'ole_object',\n",
       " 'path',\n",
       " 'properties',\n",
       " 'property_map',\n",
       " 'put',\n",
       " 'qualifiers',\n",
       " 'query',\n",
       " 'references',\n",
       " 'set',\n",
       " 'to_csv',\n",
       " 'watch_for',\n",
       " 'wmi_property']"
      ]
     },
     "execution_count": 7,
     "metadata": {},
     "output_type": "execute_result"
    }
   ],
   "source": [
    "dir(c.CIM_AssociatedSupplyVoltageSensor)"
   ]
  },
  {
   "cell_type": "code",
   "execution_count": 16,
   "metadata": {},
   "outputs": [
    {
     "data": {
      "text/plain": [
       "[]"
      ]
     },
     "execution_count": 16,
     "metadata": {},
     "output_type": "execute_result"
    }
   ],
   "source": [
    "c.CIM_AssociatedSupplyVoltageSensor.query()"
   ]
  },
  {
   "cell_type": "code",
   "execution_count": 17,
   "metadata": {},
   "outputs": [],
   "source": [
    "import win32com.client"
   ]
  },
  {
   "cell_type": "code",
   "execution_count": 19,
   "metadata": {},
   "outputs": [],
   "source": [
    "strComputer = \".\"\n",
    "objWMIService = win32com.client.Dispatch(\"WbemScripting.SWbemLocator\")\n",
    "objSWbemServices = objWMIService.ConnectServer(strComputer,\"root\\cimv2\")\n",
    "colItems = objSWbemServices.ExecQuery(\"SELECT * FROM Win32_VoltageProbe\")"
   ]
  },
  {
   "cell_type": "code",
   "execution_count": null,
   "metadata": {},
   "outputs": [
    {
     "name": "stdout",
     "output_type": "stream",
     "text": [
      "Цифровой датчик Цифровой датчик Voltage Probe #1 OK 32768 None\n",
      "Цифровой датчик Цифровой датчик Voltage Probe #2 OK 32768 None\n"
     ]
    }
   ],
   "source": [
    "for objItem in colItems:\n",
    "    print(objItem.Name, objItem.Caption, objItem.Description, objItem.Status, objItem.Accuracy, objItem.CurrentReading)"
   ]
  },
  {
   "cell_type": "code",
   "execution_count": 36,
   "metadata": {},
   "outputs": [
    {
     "name": "stdout",
     "output_type": "stream",
     "text": [
      "Цифровой датчик\n",
      "['AddRef', 'GetIDsOfNames', 'GetTypeInfo', 'GetTypeInfoCount', 'InParameters', 'Invoke', 'Name', 'Origin', 'OutParameters', 'Qualifiers_', 'QueryInterface', 'Release', '_ApplyTypes_', '_FlagAsMethod', '_LazyAddAttr_', '_NewEnum', '_Release_', '_UpdateWithITypeInfo_', '__AttrToID__', '__LazyMap__', '__bool__', '__call__', '__class__', '__delattr__', '__dict__', '__dir__', '__doc__', '__eq__', '__format__', '__ge__', '__getattr__', '__getattribute__', '__getitem__', '__getstate__', '__gt__', '__hash__', '__init__', '__init_subclass__', '__int__', '__le__', '__len__', '__lt__', '__module__', '__ne__', '__new__', '__reduce__', '__reduce_ex__', '__repr__', '__setattr__', '__setitem__', '__sizeof__', '__str__', '__subclasshook__', '__weakref__', '_builtMethods_', '_dir_ole_', '_enum_', '_find_dispatch_type_', '_get_good_object_', '_get_good_single_object_', '_lazydata_', '_make_method_', '_mapCachedItems_', '_oleobj_', '_olerepr_', '_print_details_', '_proc_', '_unicode_to_string_', '_username_', '_wrap_dispatch_']\n",
      "['AddRef', 'GetIDsOfNames', 'GetTypeInfo', 'GetTypeInfoCount', 'InParameters', 'Invoke', 'Name', 'Origin', 'OutParameters', 'Qualifiers_', 'QueryInterface', 'Release', '_ApplyTypes_', '_FlagAsMethod', '_LazyAddAttr_', '_NewEnum', '_Release_', '_UpdateWithITypeInfo_', '__AttrToID__', '__LazyMap__', '__bool__', '__call__', '__class__', '__delattr__', '__dict__', '__dir__', '__doc__', '__eq__', '__format__', '__ge__', '__getattr__', '__getattribute__', '__getitem__', '__getstate__', '__gt__', '__hash__', '__init__', '__init_subclass__', '__int__', '__le__', '__len__', '__lt__', '__module__', '__ne__', '__new__', '__reduce__', '__reduce_ex__', '__repr__', '__setattr__', '__setitem__', '__sizeof__', '__str__', '__subclasshook__', '__weakref__', '_builtMethods_', '_dir_ole_', '_enum_', '_find_dispatch_type_', '_get_good_object_', '_get_good_single_object_', '_lazydata_', '_make_method_', '_mapCachedItems_', '_oleobj_', '_olerepr_', '_print_details_', '_proc_', '_unicode_to_string_', '_username_', '_wrap_dispatch_']\n",
      "Цифровой датчик\n",
      "['AddRef', 'GetIDsOfNames', 'GetTypeInfo', 'GetTypeInfoCount', 'InParameters', 'Invoke', 'Name', 'Origin', 'OutParameters', 'Qualifiers_', 'QueryInterface', 'Release', '_ApplyTypes_', '_FlagAsMethod', '_LazyAddAttr_', '_NewEnum', '_Release_', '_UpdateWithITypeInfo_', '__AttrToID__', '__LazyMap__', '__bool__', '__call__', '__class__', '__delattr__', '__dict__', '__dir__', '__doc__', '__eq__', '__format__', '__ge__', '__getattr__', '__getattribute__', '__getitem__', '__getstate__', '__gt__', '__hash__', '__init__', '__init_subclass__', '__int__', '__le__', '__len__', '__lt__', '__module__', '__ne__', '__new__', '__reduce__', '__reduce_ex__', '__repr__', '__setattr__', '__setitem__', '__sizeof__', '__str__', '__subclasshook__', '__weakref__', '_builtMethods_', '_dir_ole_', '_enum_', '_find_dispatch_type_', '_get_good_object_', '_get_good_single_object_', '_lazydata_', '_make_method_', '_mapCachedItems_', '_oleobj_', '_olerepr_', '_print_details_', '_proc_', '_unicode_to_string_', '_username_', '_wrap_dispatch_']\n",
      "['AddRef', 'GetIDsOfNames', 'GetTypeInfo', 'GetTypeInfoCount', 'InParameters', 'Invoke', 'Name', 'Origin', 'OutParameters', 'Qualifiers_', 'QueryInterface', 'Release', '_ApplyTypes_', '_FlagAsMethod', '_LazyAddAttr_', '_NewEnum', '_Release_', '_UpdateWithITypeInfo_', '__AttrToID__', '__LazyMap__', '__bool__', '__call__', '__class__', '__delattr__', '__dict__', '__dir__', '__doc__', '__eq__', '__format__', '__ge__', '__getattr__', '__getattribute__', '__getitem__', '__getstate__', '__gt__', '__hash__', '__init__', '__init_subclass__', '__int__', '__le__', '__len__', '__lt__', '__module__', '__ne__', '__new__', '__reduce__', '__reduce_ex__', '__repr__', '__setattr__', '__setitem__', '__sizeof__', '__str__', '__subclasshook__', '__weakref__', '_builtMethods_', '_dir_ole_', '_enum_', '_find_dispatch_type_', '_get_good_object_', '_get_good_single_object_', '_lazydata_', '_make_method_', '_mapCachedItems_', '_oleobj_', '_olerepr_', '_print_details_', '_proc_', '_unicode_to_string_', '_username_', '_wrap_dispatch_']\n"
     ]
    }
   ],
   "source": [
    "for objItem in colItems:\n",
    "    print(objItem.Name)\n",
    "    for method in objItem.Methods_:\n",
    "        print(dir(method))"
   ]
  },
  {
   "cell_type": "code",
   "execution_count": 37,
   "metadata": {},
   "outputs": [
    {
     "name": "stdout",
     "output_type": "stream",
     "text": [
      "Цифровой датчик\n"
     ]
    },
    {
     "ename": "com_error",
     "evalue": "(-2147352573, 'Член группы не найден.', None, None)",
     "output_type": "error",
     "traceback": [
      "\u001b[1;31m---------------------------------------------------------------------------\u001b[0m",
      "\u001b[1;31mcom_error\u001b[0m                                 Traceback (most recent call last)",
      "Cell \u001b[1;32mIn[37], line 4\u001b[0m\n\u001b[0;32m      2\u001b[0m \u001b[38;5;28mprint\u001b[39m(objItem\u001b[38;5;241m.\u001b[39mName)\n\u001b[0;32m      3\u001b[0m \u001b[38;5;28;01mfor\u001b[39;00m method \u001b[38;5;129;01min\u001b[39;00m objItem\u001b[38;5;241m.\u001b[39mMethods_:\n\u001b[1;32m----> 4\u001b[0m     \u001b[38;5;28mprint\u001b[39m(\u001b[43mmethod\u001b[49m\u001b[38;5;241;43m.\u001b[39;49m\u001b[43mQueryInterface\u001b[49m\u001b[43m(\u001b[49m\u001b[43m)\u001b[49m)\n",
      "File \u001b[1;32m<COMObject <unknown>>:2\u001b[0m, in \u001b[0;36mQueryInterface\u001b[1;34m(self, riid, ppvObj)\u001b[0m\n",
      "File \u001b[1;32mc:\\Users\\arche\\Desktop\\Cloned_from_GitHub\\Process_monitor\\.venv\\Lib\\site-packages\\win32com\\client\\dynamic.py:355\u001b[0m, in \u001b[0;36mCDispatch._ApplyTypes_\u001b[1;34m(self, dispid, wFlags, retType, argTypes, user, resultCLSID, *args)\u001b[0m\n\u001b[0;32m    354\u001b[0m \u001b[38;5;28;01mdef\u001b[39;00m\u001b[38;5;250m \u001b[39m\u001b[38;5;21m_ApplyTypes_\u001b[39m(\u001b[38;5;28mself\u001b[39m, dispid, wFlags, retType, argTypes, user, resultCLSID, \u001b[38;5;241m*\u001b[39margs):\n\u001b[1;32m--> 355\u001b[0m     result \u001b[38;5;241m=\u001b[39m \u001b[38;5;28;43mself\u001b[39;49m\u001b[38;5;241;43m.\u001b[39;49m\u001b[43m_oleobj_\u001b[49m\u001b[38;5;241;43m.\u001b[39;49m\u001b[43mInvokeTypes\u001b[49m\u001b[43m(\u001b[49m\n\u001b[0;32m    356\u001b[0m \u001b[43m        \u001b[49m\u001b[38;5;241;43m*\u001b[39;49m\u001b[43m(\u001b[49m\u001b[43mdispid\u001b[49m\u001b[43m,\u001b[49m\u001b[43m \u001b[49m\u001b[43mLCID\u001b[49m\u001b[43m,\u001b[49m\u001b[43m \u001b[49m\u001b[43mwFlags\u001b[49m\u001b[43m,\u001b[49m\u001b[43m \u001b[49m\u001b[43mretType\u001b[49m\u001b[43m,\u001b[49m\u001b[43m \u001b[49m\u001b[43margTypes\u001b[49m\u001b[43m)\u001b[49m\u001b[43m \u001b[49m\u001b[38;5;241;43m+\u001b[39;49m\u001b[43m \u001b[49m\u001b[43margs\u001b[49m\n\u001b[0;32m    357\u001b[0m \u001b[43m    \u001b[49m\u001b[43m)\u001b[49m\n\u001b[0;32m    358\u001b[0m     \u001b[38;5;28;01mreturn\u001b[39;00m \u001b[38;5;28mself\u001b[39m\u001b[38;5;241m.\u001b[39m_get_good_object_(result, user, resultCLSID)\n",
      "\u001b[1;31mcom_error\u001b[0m: (-2147352573, 'Член группы не найден.', None, None)"
     ]
    }
   ],
   "source": [
    "for objItem in colItems:\n",
    "    print(objItem.Name)\n",
    "    for method in objItem.Methods_:\n",
    "        print(method.QueryInterface())"
   ]
  },
  {
   "cell_type": "code",
   "execution_count": 30,
   "metadata": {},
   "outputs": [
    {
     "data": {
      "text/plain": [
       "['Accuracy',\n",
       " 'AddRef',\n",
       " 'AssociatorsAsync_',\n",
       " 'Associators_',\n",
       " 'Availability',\n",
       " 'Caption',\n",
       " 'Clone_',\n",
       " 'CompareTo_',\n",
       " 'ConfigManagerErrorCode',\n",
       " 'ConfigManagerUserConfig',\n",
       " 'CreationClassName',\n",
       " 'CurrentReading',\n",
       " 'DeleteAsync_',\n",
       " 'Delete_',\n",
       " 'Derivation_',\n",
       " 'Description',\n",
       " 'DeviceID',\n",
       " 'ErrorCleared',\n",
       " 'ErrorDescription',\n",
       " 'ExecMethodAsync_',\n",
       " 'ExecMethod_',\n",
       " 'GetIDsOfNames',\n",
       " 'GetObjectText_',\n",
       " 'GetText_',\n",
       " 'GetTypeInfo',\n",
       " 'GetTypeInfoCount',\n",
       " 'InstallDate',\n",
       " 'InstancesAsync_',\n",
       " 'Instances_',\n",
       " 'Invoke',\n",
       " 'IsLinear',\n",
       " 'LastErrorCode',\n",
       " 'LowerThresholdCritical',\n",
       " 'LowerThresholdFatal',\n",
       " 'LowerThresholdNonCritical',\n",
       " 'MaxReadable',\n",
       " 'Methods_',\n",
       " 'MinReadable',\n",
       " 'Name',\n",
       " 'NominalReading',\n",
       " 'NormalMax',\n",
       " 'NormalMin',\n",
       " 'PNPDeviceID',\n",
       " 'Path_',\n",
       " 'PowerManagementCapabilities',\n",
       " 'PowerManagementSupported',\n",
       " 'Properties_',\n",
       " 'PutAsync_',\n",
       " 'Put_',\n",
       " 'Qualifiers_',\n",
       " 'QueryInterface',\n",
       " 'ReferencesAsync_',\n",
       " 'References_',\n",
       " 'Refresh_',\n",
       " 'Release',\n",
       " 'Resolution',\n",
       " 'Security_',\n",
       " 'SetFromText_',\n",
       " 'SpawnDerivedClass_',\n",
       " 'SpawnInstance_',\n",
       " 'Status',\n",
       " 'StatusInfo',\n",
       " 'SubclassesAsync_',\n",
       " 'Subclasses_',\n",
       " 'SystemCreationClassName',\n",
       " 'SystemName',\n",
       " 'SystemProperties_',\n",
       " 'Tolerance',\n",
       " 'UpperThresholdCritical',\n",
       " 'UpperThresholdFatal',\n",
       " 'UpperThresholdNonCritical',\n",
       " '_ApplyTypes_',\n",
       " '_FlagAsMethod',\n",
       " '_LazyAddAttr_',\n",
       " '_NewEnum',\n",
       " '_Release_',\n",
       " '_UpdateWithITypeInfo_',\n",
       " '__AttrToID__',\n",
       " '__LazyMap__',\n",
       " '__bool__',\n",
       " '__call__',\n",
       " '__class__',\n",
       " '__delattr__',\n",
       " '__dict__',\n",
       " '__dir__',\n",
       " '__doc__',\n",
       " '__eq__',\n",
       " '__format__',\n",
       " '__ge__',\n",
       " '__getattr__',\n",
       " '__getattribute__',\n",
       " '__getitem__',\n",
       " '__getstate__',\n",
       " '__gt__',\n",
       " '__hash__',\n",
       " '__init__',\n",
       " '__init_subclass__',\n",
       " '__int__',\n",
       " '__le__',\n",
       " '__len__',\n",
       " '__lt__',\n",
       " '__module__',\n",
       " '__ne__',\n",
       " '__new__',\n",
       " '__reduce__',\n",
       " '__reduce_ex__',\n",
       " '__repr__',\n",
       " '__setattr__',\n",
       " '__setitem__',\n",
       " '__sizeof__',\n",
       " '__str__',\n",
       " '__subclasshook__',\n",
       " '__weakref__',\n",
       " '_builtMethods_',\n",
       " '_dir_ole_',\n",
       " '_enum_',\n",
       " '_find_dispatch_type_',\n",
       " '_get_good_object_',\n",
       " '_get_good_single_object_',\n",
       " '_lazydata_',\n",
       " '_make_method_',\n",
       " '_mapCachedItems_',\n",
       " '_oleobj_',\n",
       " '_olerepr_',\n",
       " '_print_details_',\n",
       " '_proc_',\n",
       " '_unicode_to_string_',\n",
       " '_username_',\n",
       " '_wrap_dispatch_']"
      ]
     },
     "execution_count": 30,
     "metadata": {},
     "output_type": "execute_result"
    }
   ],
   "source": [
    "dir(colItems[0])"
   ]
  }
 ],
 "metadata": {
  "kernelspec": {
   "display_name": ".venv",
   "language": "python",
   "name": "python3"
  },
  "language_info": {
   "codemirror_mode": {
    "name": "ipython",
    "version": 3
   },
   "file_extension": ".py",
   "mimetype": "text/x-python",
   "name": "python",
   "nbconvert_exporter": "python",
   "pygments_lexer": "ipython3",
   "version": "3.11.2"
  }
 },
 "nbformat": 4,
 "nbformat_minor": 2
}
